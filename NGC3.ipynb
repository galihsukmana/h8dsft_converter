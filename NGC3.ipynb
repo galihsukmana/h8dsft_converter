{
  "cells": [
    {
      "cell_type": "code",
      "execution_count": 20,
      "metadata": {
        "colab": {
          "base_uri": "https://localhost:8080/"
        },
        "id": "a88wSXg0U3HZ",
        "outputId": "ce0931de-f9e8-4774-cb08-6d724d6a1a12"
      },
      "outputs": [
        {
          "name": "stdout",
          "output_type": "stream",
          "text": [
            "your temp in celcius :50\n",
            "your temp in kelvin : 323.0\n",
            "your temp in fahrenheit : 122.0\n"
          ]
        }
      ],
      "source": [
        "# temps converter\n",
        "\n",
        "def celcius_temp():\n",
        "  celcius = float(input('your temp in celcius :'))\n",
        "  kelvin  = celcius + 273\n",
        "  fahrenheit = ((9/5) * celcius) + 32\n",
        "  print('your temp in kelvin :',kelvin,)\n",
        "  print('your temp in fahrenheit :',fahrenheit,)\n",
        "celcius_temp()"
      ]
    },
    {
      "cell_type": "code",
      "execution_count": 22,
      "metadata": {
        "colab": {
          "base_uri": "https://localhost:8080/"
        },
        "id": "S6TEkwEYXqJL",
        "outputId": "96146de3-564e-4f6a-ee20-e1e793370e25"
      },
      "outputs": [
        {
          "name": "stdout",
          "output_type": "stream",
          "text": [
            "your temp in kelvin :40\n",
            "your temp in celcius : -233.0\n",
            "your temp in fahrenheit : -387.40000000000003\n"
          ]
        }
      ],
      "source": [
        "def kelvin_temp():\n",
        "  kelvin = float(input('your temp in kelvin :'))\n",
        "  celcius  = kelvin - 273\n",
        "  fahrenheit = ((9/5) * celcius) + 32\n",
        "  print('your temp in celcius :',celcius)\n",
        "  print('your temp in fahrenheit :',fahrenheit)\n",
        "kelvin_temp()"
      ]
    },
    {
      "cell_type": "code",
      "execution_count": 23,
      "metadata": {
        "colab": {
          "base_uri": "https://localhost:8080/"
        },
        "id": "kxV4hrW8Bmkx",
        "outputId": "b0f01453-5178-405b-cac1-ec49656aa8a7"
      },
      "outputs": [
        {
          "name": "stdout",
          "output_type": "stream",
          "text": [
            "your temp in fahrenheit :50\n",
            "your temp in celcius : -4.222222222222221\n",
            "your temp in kelvin : 268.77777777777777\n"
          ]
        }
      ],
      "source": [
        "def fahrenheit_temp():\n",
        "  fahrenheit = float(input('your temp in fahrenheit :'))\n",
        "  celcius  = ((5/9) * fahrenheit) - 32\n",
        "  kelvin = celcius + 273\n",
        "  print('your temp in celcius :',celcius)\n",
        "  print('your temp in kelvin :',kelvin)\n",
        "fahrenheit_temp()"
      ]
    },
    {
      "cell_type": "code",
      "execution_count": null,
      "metadata": {
        "id": "Zcz1viSODvWY"
      },
      "outputs": [],
      "source": []
    }
  ],
  "metadata": {
    "colab": {
      "provenance": []
    },
    "kernelspec": {
      "display_name": "Python 3",
      "name": "python3"
    },
    "language_info": {
      "name": "python"
    }
  },
  "nbformat": 4,
  "nbformat_minor": 0
}
